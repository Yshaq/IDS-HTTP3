{
  "cells": [
    {
      "cell_type": "code",
      "execution_count": 1,
      "metadata": {
        "colab": {
          "base_uri": "https://localhost:8080/"
        },
        "id": "QKBtwSPoBn_q",
        "outputId": "d72ecf89-9b51-41d5-8c20-3dfb2b3b43f5"
      },
      "outputs": [
        {
          "name": "stdout",
          "output_type": "stream",
          "text": [
            "Mounted at /content/gdrive/\n"
          ]
        }
      ],
      "source": [
        "# For Mounting Google Drive when using Colab\n",
        "from google.colab import drive\n",
        "drive.mount('/content/gdrive/', force_remount=True)\n",
        "\n",
        "%cd gdrive/MyDrive/h23q-data\n",
        "\n",
        "! ls"
      ]
    },
    {
      "cell_type": "code",
      "execution_count": 5,
      "metadata": {
        "id": "g96ymi76CAxP"
      },
      "outputs": [],
      "source": [
        "import torch\n",
        "import torch.nn as nn\n",
        "import torch.optim as optim\n",
        "from sklearn.preprocessing import MinMaxScaler\n",
        "import pandas as pd\n",
        "import numpy as np\n",
        "from torch.utils.data import TensorDataset, DataLoader\n",
        "from sklearn.model_selection import train_test_split\n",
        "from sklearn.metrics import classification_report, accuracy_score\n",
        "import matplotlib.pyplot as plt\n",
        "import os\n",
        "import pandas as pd\n",
        "import matplotlib.pyplot as plt\n",
        "import seaborn as sns"
      ]
    },
    {
      "cell_type": "code",
      "execution_count": 6,
      "metadata": {
        "id": "pWhZBXmSCNab"
      },
      "outputs": [],
      "source": [
        "abnormal_files = [f for f in os.listdir('.') if os.path.isfile(f) and f.endswith('mal.csv')]"
      ]
    },
    {
      "cell_type": "code",
      "execution_count": 7,
      "metadata": {
        "id": "OEDD8thP-rnY"
      },
      "outputs": [],
      "source": [
        "selected_feature_names=['src_port', 'protocol', 'flow_duration', 'fwd_pkt_len_max',\n",
        "       'fwd_pkt_len_min', 'fwd_pkt_len_std', 'bwd_pkt_len_max',\n",
        "       'bwd_pkt_len_min', 'bwd_pkt_len_mean', 'bwd_pkt_len_std',\n",
        "       'fwd_header_len', 'bwd_header_len', 'flow_iat_max',\n",
        "       'fwd_iat_tot', 'fwd_iat_max', 'down_up_ratio',\n",
        "        'idle_max', 'idle_mean', 'idle_std',\n",
        "       'fwd_pkts_b_avg', 'bwd_byts_b_avg', 'bwd_pkts_b_avg',\n",
        "       'bwd_blk_rate_avg']"
      ]
    },
    {
      "cell_type": "code",
      "execution_count": 8,
      "metadata": {
        "id": "1oNTukLZCM10"
      },
      "outputs": [],
      "source": [
        "class_labels = {\n",
        "    '1': 0,\n",
        "    '2': 1,\n",
        "    '3': 2,\n",
        "    '4': 3,\n",
        "    '5': 4,\n",
        "    # '6': ,\n",
        "    '7': 5,\n",
        "    '8': 6,\n",
        "    '9': 7,\n",
        "    '10': 8,\n",
        "}"
      ]
    },
    {
      "cell_type": "code",
      "execution_count": 9,
      "metadata": {
        "id": "Bo9ds99n_icc"
      },
      "outputs": [],
      "source": [
        "dataframes = []\n",
        "labels = []\n",
        "\n",
        "for file in abnormal_files:\n",
        "    label = class_labels[(file.split('-')[0])]  # Extract label from file name\n",
        "    df = pd.read_csv(file)\n",
        "    df = df[selected_feature_names]\n",
        "    dataframes.append(df)\n",
        "    labels.extend([label]*len(df))\n",
        "\n",
        "# Step 2: Combine data from all CSV files\n",
        "combined_df = pd.concat(dataframes)\n",
        "y = labels"
      ]
    },
    {
      "cell_type": "code",
      "execution_count": 10,
      "metadata": {
        "colab": {
          "base_uri": "https://localhost:8080/"
        },
        "id": "vxCMCErc_srt",
        "outputId": "04af7203-49c9-4cb4-c9ee-8c931652421d"
      },
      "outputs": [
        {
          "data": {
            "text/plain": [
              "(62021, 23)"
            ]
          },
          "execution_count": 10,
          "metadata": {},
          "output_type": "execute_result"
        }
      ],
      "source": [
        "combined_df.shape"
      ]
    },
    {
      "cell_type": "code",
      "execution_count": 11,
      "metadata": {
        "colab": {
          "base_uri": "https://localhost:8080/"
        },
        "id": "c04Mp2m6_vPz",
        "outputId": "ed4b30c5-dc13-46d9-ae88-c72cb02c179d"
      },
      "outputs": [
        {
          "data": {
            "text/plain": [
              "62021"
            ]
          },
          "execution_count": 11,
          "metadata": {},
          "output_type": "execute_result"
        }
      ],
      "source": [
        "len(y)"
      ]
    },
    {
      "cell_type": "code",
      "execution_count": 12,
      "metadata": {
        "colab": {
          "base_uri": "https://localhost:8080/"
        },
        "id": "S1sL8d9VAAWt",
        "outputId": "d9004681-e8e4-4de2-8ca0-d24d5f8d0bf8"
      },
      "outputs": [
        {
          "name": "stdout",
          "output_type": "stream",
          "text": [
            "0: 8393\n",
            "1: 14250\n",
            "2: 2199\n",
            "3: 2234\n",
            "4: 1342\n",
            "5: 6\n",
            "6: 3250\n",
            "8: 14675\n",
            "7: 15672\n"
          ]
        }
      ],
      "source": [
        "from collections import Counter\n",
        "# Count the occurrences of each value\n",
        "value_counts = Counter(y)\n",
        "\n",
        "# Print the counts\n",
        "for value, count in value_counts.items():\n",
        "    print(f\"{value}: {count}\")"
      ]
    },
    {
      "cell_type": "code",
      "execution_count": 13,
      "metadata": {
        "id": "jwHLqd98AzH1"
      },
      "outputs": [],
      "source": [
        "Split data into training and testing sets\n",
        "X_train, X_test, y_train, y_test = train_test_split(combined_df, y, test_size=0.2, random_state=42)"
      ]
    },
    {
      "cell_type": "code",
      "execution_count": 16,
      "metadata": {
        "colab": {
          "base_uri": "https://localhost:8080/"
        },
        "id": "UEUW9maRBQQM",
        "outputId": "621ca564-762f-49c6-ac62-3dffbe3af39d"
      },
      "outputs": [
        {
          "name": "stdout",
          "output_type": "stream",
          "text": [
            "Classification report for Naive Bayes:\n",
            "              precision    recall  f1-score   support\n",
            "\n",
            "           0       0.81      0.50      0.62      1644\n",
            "           1       0.52      0.99      0.68      2811\n",
            "           2       0.33      0.13      0.18       448\n",
            "           3       0.32      0.17      0.22       446\n",
            "           4       0.25      0.41      0.31       244\n",
            "           5       1.00      1.00      1.00         3\n",
            "           6       0.00      0.00      0.00       655\n",
            "           7       0.64      0.47      0.55      3192\n",
            "           8       1.00      0.97      0.98      2962\n",
            "\n",
            "    accuracy                           0.66     12405\n",
            "   macro avg       0.54      0.52      0.51     12405\n",
            "weighted avg       0.66      0.66      0.63     12405\n",
            "\n",
            "Classification report for KNN:\n",
            "              precision    recall  f1-score   support\n",
            "\n",
            "           0       0.77      0.90      0.83      1644\n",
            "           1       0.99      1.00      0.99      2811\n",
            "           2       0.61      0.43      0.50       448\n",
            "           3       0.70      0.58      0.64       446\n",
            "           4       0.43      0.21      0.29       244\n",
            "           5       1.00      1.00      1.00         3\n",
            "           6       0.78      0.66      0.72       655\n",
            "           7       0.90      0.94      0.92      3192\n",
            "           8       1.00      0.99      1.00      2962\n",
            "\n",
            "    accuracy                           0.90     12405\n",
            "   macro avg       0.80      0.75      0.76     12405\n",
            "weighted avg       0.89      0.90      0.89     12405\n",
            "\n",
            "Classification report for SVM:\n",
            "              precision    recall  f1-score   support\n",
            "\n",
            "           0       0.69      0.63      0.66      1644\n",
            "           1       0.55      0.99      0.71      2811\n",
            "           2       0.29      0.02      0.04       448\n",
            "           3       0.52      0.20      0.29       446\n",
            "           4       0.67      0.04      0.08       244\n",
            "           5       0.00      0.00      0.00         3\n",
            "           6       0.00      0.00      0.00       655\n",
            "           7       0.67      0.54      0.60      3192\n",
            "           8       0.97      0.99      0.98      2962\n",
            "\n",
            "    accuracy                           0.69     12405\n",
            "   macro avg       0.48      0.38      0.37     12405\n",
            "weighted avg       0.66      0.69      0.65     12405\n",
            "\n"
          ]
        },
        {
          "name": "stderr",
          "output_type": "stream",
          "text": [
            "/usr/local/lib/python3.10/dist-packages/sklearn/metrics/_classification.py:1344: UndefinedMetricWarning: Precision and F-score are ill-defined and being set to 0.0 in labels with no predicted samples. Use `zero_division` parameter to control this behavior.\n",
            "  _warn_prf(average, modifier, msg_start, len(result))\n",
            "/usr/local/lib/python3.10/dist-packages/sklearn/metrics/_classification.py:1344: UndefinedMetricWarning: Precision and F-score are ill-defined and being set to 0.0 in labels with no predicted samples. Use `zero_division` parameter to control this behavior.\n",
            "  _warn_prf(average, modifier, msg_start, len(result))\n",
            "/usr/local/lib/python3.10/dist-packages/sklearn/metrics/_classification.py:1344: UndefinedMetricWarning: Precision and F-score are ill-defined and being set to 0.0 in labels with no predicted samples. Use `zero_division` parameter to control this behavior.\n",
            "  _warn_prf(average, modifier, msg_start, len(result))\n"
          ]
        },
        {
          "name": "stdout",
          "output_type": "stream",
          "text": [
            "Classification report for Random Forest:\n",
            "              precision    recall  f1-score   support\n",
            "\n",
            "           0       0.99      0.98      0.98      1644\n",
            "           1       1.00      1.00      1.00      2811\n",
            "           2       0.87      0.93      0.90       448\n",
            "           3       0.89      0.87      0.88       446\n",
            "           4       0.84      0.83      0.84       244\n",
            "           5       1.00      1.00      1.00         3\n",
            "           6       0.99      1.00      0.99       655\n",
            "           7       1.00      1.00      1.00      3192\n",
            "           8       1.00      1.00      1.00      2962\n",
            "\n",
            "    accuracy                           0.99     12405\n",
            "   macro avg       0.95      0.96      0.95     12405\n",
            "weighted avg       0.99      0.99      0.99     12405\n",
            "\n"
          ]
        }
      ],
      "source": [
        "import os\n",
        "import pandas as pd\n",
        "from sklearn.model_selection import train_test_split\n",
        "from sklearn.naive_bayes import GaussianNB\n",
        "from sklearn.neighbors import KNeighborsClassifier\n",
        "from sklearn.svm import SVC\n",
        "from sklearn.metrics import classification_report\n",
        "from sklearn.model_selection import train_test_split\n",
        "from sklearn.ensemble import RandomForestClassifier\n",
        "from sklearn.metrics import classification_report\n",
        "\n",
        "\n",
        "# Train Naive Bayes classifier\n",
        "nb_classifier = GaussianNB()\n",
        "nb_classifier.fit(X_train, y_train)\n",
        "\n",
        "# Train K-Nearest Neighbors classifier\n",
        "knn_classifier = KNeighborsClassifier()\n",
        "knn_classifier.fit(X_train, y_train)\n",
        "\n",
        "# Train SVM classifier\n",
        "svm_classifier = SVC()\n",
        "svm_classifier.fit(X_train, y_train)\n",
        "\n",
        "# Train Random Forest classifier\n",
        "rf_classifier = RandomForestClassifier()\n",
        "rf_classifier.fit(X_train, y_train)\n",
        "\n",
        "# Evaluate classifiers\n",
        "classifiers = {\n",
        "    'Naive Bayes': nb_classifier,\n",
        "    'KNN': knn_classifier,\n",
        "    'SVM': svm_classifier,\n",
        "    'Random Forest': rf_classifier,\n",
        "}\n",
        "\n",
        "for name, classifier in classifiers.items():\n",
        "    y_pred = classifier.predict(X_test)\n",
        "    print(f\"Classification report for {name}:\")\n",
        "    print(classification_report(y_test, y_pred))"
      ]
    },
    {
      "cell_type": "code",
      "execution_count": 19,
      "metadata": {
        "colab": {
          "base_uri": "https://localhost:8080/",
          "height": 1000
        },
        "id": "ocbiUnciaZSD",
        "outputId": "24b6ae7a-4fe9-489d-e0bb-7b33c0b5a209"
      },
      "outputs": [
        {
          "data": {
            "image/png": "[encoded data removed]",
            "text/plain": [
              "<Figure size 1200x1200 with 4 Axes>"
            ]
          },
          "metadata": {},
          "output_type": "display_data"
        }
      ],
      "source": [
        "precision_scores = {}\n",
        "recall_scores = {}\n",
        "f1_scores = {}\n",
        "accuracy_scores = {}\n",
        "\n",
        "for name, classifier in classifiers.items():\n",
        "    y_pred = classifier.predict(X_test)\n",
        "    report = classification_report(y_test, y_pred, output_dict=True)\n",
        "    precision_scores[name] = report['weighted avg']['precision']\n",
        "    recall_scores[name] = report['weighted avg']['recall']\n",
        "    f1_scores[name] = report['weighted avg']['f1-score']\n",
        "    accuracy_scores[name] = report['accuracy']\n",
        "\n",
        "\n",
        "# Step 4: Plot graphs\n",
        "plt.figure(figsize=(12, 12))\n",
        "\n",
        "# Define colors for each algorithm\n",
        "colors = ['#1f77b4', '#ff7f0e', '#2ca02c', '#d62728']\n",
        "\n",
        "# Create subplots\n",
        "for i, metric in enumerate(['Precision', 'Recall', 'F1 Score', 'Accuracy']):\n",
        "    plt.subplot(2, 2, i + 1)\n",
        "    values = [precision_scores, recall_scores, f1_scores, accuracy_scores][i]\n",
        "    bars = plt.bar(np.arange(len(classifiers)), values.values(), color=colors)\n",
        "\n",
        "    # Label the bars\n",
        "    for bar in bars:\n",
        "        yval = bar.get_height()\n",
        "        plt.text(bar.get_x() + bar.get_width()/2, yval, round(yval, 2), va='bottom', ha='center')\n",
        "\n",
        "    plt.title(metric)\n",
        "    plt.xlabel('Classifier')\n",
        "    plt.ylabel(metric)\n",
        "    plt.xticks(np.arange(len(classifiers)), values.keys())\n",
        "    plt.ylim(0, 1)\n",
        "\n",
        "plt.tight_layout()\n",
        "plt.show()"
      ]
    }
  ],
  "metadata": {
    "colab": {
      "provenance": []
    },
    "kernelspec": {
      "display_name": "Python 3",
      "name": "python3"
    },
    "language_info": {
      "name": "python"
    }
  },
  "nbformat": 4,
  "nbformat_minor": 0
}
